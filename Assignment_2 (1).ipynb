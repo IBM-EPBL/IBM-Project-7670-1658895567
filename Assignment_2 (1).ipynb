{
  "nbformat": 4,
  "nbformat_minor": 0,
  "metadata": {
    "colab": {
      "provenance": []
    },
    "kernelspec": {
      "name": "python3",
      "display_name": "Python 3"
    },
    "language_info": {
      "name": "python"
    }
  },
  "cells": [
    {
      "cell_type": "markdown",
      "source": [
        "Import Libraries"
      ],
      "metadata": {
        "id": "yJGcXroXTCOS"
      }
    },
    {
      "cell_type": "code",
      "source": [
        "import pandas as pd\n",
        "import numpy as np\n",
        "import matplotlib.pyplot as plt \n",
        "import seaborn as sns\n",
        "from sklearn import preprocessing\n",
        "from sklearn.preprocessing import StandardScaler\n",
        "from sklearn.linear_model import LinearRegression\n",
        "from sklearn.model_selection import train_test_split"
      ],
      "metadata": {
        "id": "AJ-HjjYVTFbW"
      },
      "execution_count": 1,
      "outputs": []
    },
    {
      "cell_type": "markdown",
      "source": [
        "1.Dataset has been downloaded and saved in the path \n",
        "\n",
        "//Datasets/50_Startups.csv\n",
        "\n",
        "---\n",
        "\n"
      ],
      "metadata": {
        "id": "n3ynIOHCTLse"
      }
    },
    {
      "cell_type": "markdown",
      "source": [
        "1.Load the dataset"
      ],
      "metadata": {
        "id": "QsIiVfxJXF-V"
      }
    },
    {
      "cell_type": "code",
      "source": [
        "sheet = pd.read_csv('../Assignment/Datasets/50_Startups.csv')"
      ],
      "metadata": {
        "id": "uC34Dns1aABr"
      },
      "execution_count": null,
      "outputs": []
    },
    {
      "cell_type": "markdown",
      "source": [
        "1.Perform Below Visualizations\n",
        "\n",
        "3.1 Univariate Analysis"
      ],
      "metadata": {
        "id": "0BgFECjiaBiu"
      }
    },
    {
      "cell_type": "code",
      "source": [
        "plt.scatter(sheet.index, sheet['R&D Spend'])"
      ],
      "metadata": {
        "id": "1GYZ_ouvabgM"
      },
      "execution_count": null,
      "outputs": []
    },
    {
      "cell_type": "markdown",
      "source": [
        "3.2 Bi-Variate Analysis"
      ],
      "metadata": {
        "id": "uTn2uFzOa0hv"
      }
    },
    {
      "cell_type": "code",
      "source": [
        "sns.regplot(\n",
        "    x='Marketing Spend', \n",
        "    y='Profit', \n",
        "    data=sheet\n",
        ")"
      ],
      "metadata": {
        "id": "cPzFP2eOa9D6"
      },
      "execution_count": null,
      "outputs": []
    },
    {
      "cell_type": "markdown",
      "source": [
        "3.3 Multi Variate Analysis"
      ],
      "metadata": {
        "id": "VXlNTpC6bGGS"
      }
    },
    {
      "cell_type": "code",
      "source": [
        "sns.scatterplot(\n",
        "    x='Administration',\n",
        "    y='Marketing Spend',\n",
        "    data=sheet,\n",
        "    hue='Profit'\n",
        ")"
      ],
      "metadata": {
        "id": "MMdPRO6TbKPL"
      },
      "execution_count": null,
      "outputs": []
    },
    {
      "cell_type": "markdown",
      "source": [
        "1.Perform Descriptive Statistics on the dataset"
      ],
      "metadata": {
        "id": "A9foKRvxbNrQ"
      }
    },
    {
      "cell_type": "code",
      "source": [
        "avg = sheet['Profit'].mean()\n",
        "print(\"Mean: \",avg)\n",
        "med = sheet['Profit'].median()\n",
        "print(\"median: \",med)\n",
        "sd = sheet['Profit'].std()\n",
        "print(\"Standard Deviation\",sd)"
      ],
      "metadata": {
        "id": "M9x_-WOtbQy1"
      },
      "execution_count": null,
      "outputs": []
    },
    {
      "cell_type": "markdown",
      "source": [
        "2.Handle the Missing Values"
      ],
      "metadata": {
        "id": "i6PgVHn_bVpt"
      }
    },
    {
      "cell_type": "code",
      "source": [
        "md = pd.notnull(sheet['State'])\n",
        "md.fillna(0)\n",
        "sheet[md]"
      ],
      "metadata": {
        "id": "2TiqUepEbbhK"
      },
      "execution_count": null,
      "outputs": []
    },
    {
      "cell_type": "markdown",
      "source": [
        "3.Find the outliers and replace the outliers"
      ],
      "metadata": {
        "id": "0JM-TEpMbfVc"
      }
    },
    {
      "cell_type": "code",
      "source": [
        "sns.boxplot(sheet['R&D Spend'])"
      ],
      "metadata": {
        "id": "hLFhZVF6blV_"
      },
      "execution_count": null,
      "outputs": []
    },
    {
      "cell_type": "markdown",
      "source": [
        "4.Check for Categorical columns and perform encoding"
      ],
      "metadata": {
        "id": "CDThhW2gbxZP"
      }
    },
    {
      "cell_type": "code",
      "source": [
        "sheet['State'].unique\n",
        "lenc = preprocessing.LabelEncoder()\n",
        "sheet['State'] = lenc.fit_transform(sheet['State'])\n",
        "sheet['State'].unique()"
      ],
      "metadata": {
        "id": "d5xda70Rb2FD"
      },
      "execution_count": null,
      "outputs": []
    },
    {
      "cell_type": "markdown",
      "source": [
        "5.Split the data into dependent and independent variables\n",
        "\n",
        "\n",
        "Dependent Values"
      ],
      "metadata": {
        "id": "zelyX7eEb4dj"
      }
    },
    {
      "cell_type": "code",
      "source": [
        "x = sheet.iloc[:, :-1].values\n",
        "print(x)"
      ],
      "metadata": {
        "id": "RXR6DaBJb9en"
      },
      "execution_count": null,
      "outputs": []
    },
    {
      "cell_type": "markdown",
      "source": [
        "Independent Values"
      ],
      "metadata": {
        "id": "3J-SezZ6b_nN"
      }
    },
    {
      "cell_type": "code",
      "source": [
        "y = sheet.iloc[:, -1].values\n",
        "print(y)"
      ],
      "metadata": {
        "id": "RZ4U2CoocGVC"
      },
      "execution_count": null,
      "outputs": []
    },
    {
      "cell_type": "markdown",
      "source": [
        "1.Scale the independent values"
      ],
      "metadata": {
        "id": "5KSGA6oLcLax"
      }
    },
    {
      "cell_type": "code",
      "source": [
        "scaler = StandardScaler().fit_transform(sheet)\n",
        "print(scaler)"
      ],
      "metadata": {
        "id": "jlX2iodLcSRa"
      },
      "execution_count": null,
      "outputs": []
    },
    {
      "cell_type": "markdown",
      "source": [
        "2.Split the data into training and testing"
      ],
      "metadata": {
        "id": "nRmIyJdAcXTg"
      }
    },
    {
      "cell_type": "code",
      "source": [
        "x_train, X_test, y_train, Y_test, = train_test_split(\n",
        "    x, y, test_size=0.5, random_state=0\n",
        ")"
      ],
      "metadata": {
        "id": "PA0vZ7W1cdVq"
      },
      "execution_count": null,
      "outputs": []
    },
    {
      "cell_type": "code",
      "source": [
        "print(y_train)"
      ],
      "metadata": {
        "id": "KigCTqS7ce7W"
      },
      "execution_count": null,
      "outputs": []
    },
    {
      "cell_type": "code",
      "source": [
        "print(Y_test)"
      ],
      "metadata": {
        "id": "xy_N0Ohachr9"
      },
      "execution_count": null,
      "outputs": []
    }
  ]
}